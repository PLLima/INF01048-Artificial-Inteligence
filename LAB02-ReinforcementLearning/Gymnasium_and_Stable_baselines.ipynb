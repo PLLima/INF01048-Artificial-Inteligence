{
  "nbformat": 4,
  "nbformat_minor": 0,
  "metadata": {
    "colab": {
      "provenance": []
    },
    "kernelspec": {
      "name": "python3",
      "display_name": "Python 3"
    },
    "accelerator": "GPU"
  },
  "cells": [
    {
      "cell_type": "markdown",
      "metadata": {
        "id": "AoxOjIlOImwx"
      },
      "source": [
        "# Gymnasium - criando um MDP\n",
        "\n",
        "Baseado no \"Stable Baselines3 Tutorial - Creating a custom Gym environment\" - https://colab.research.google.com/github/araffin/rl-tutorial-jnrr19/blob/sb3/5_custom_gym_env.ipynb\n",
        "\n",
        "## Introducão\n",
        "\n",
        "Este notebook é uma introdução à interface Gym para ambientes de aprendizado por reforço. A biblioteca Gymnasium fornece uma interface que permite a modelagem do ambiente de uma forma padronizada para avaliação e teste de algoritmos de aprendizado por reforço.\n",
        "\n",
        "Neste notebook, veremos como usar um algoritmo já pronto em um ambiente novo.\n",
        "\n",
        "## Instalação do Stable Baselines3 (incluindo gymnasium) usando Pip\n",
        "\n",
        "A célula abaixo instala no ambiente de execução do Colab a biblioteca Stable Baselines3 de algoritmos de RL. Uma das dependências é a gymnasium, que fornece a interface padronizada de ambientes.\n",
        "\n"
      ]
    },
    {
      "cell_type": "code",
      "source": [
        "!pip install \"stable-baselines3>=2.0.0a4\""
      ],
      "metadata": {
        "id": "rugepGHWXBc0",
        "colab": {
          "base_uri": "https://localhost:8080/"
        },
        "outputId": "45cd760e-ece4-4c9c-d498-ba221c98c248"
      },
      "execution_count": null,
      "outputs": [
        {
          "output_type": "stream",
          "name": "stdout",
          "text": [
            "Collecting stable-baselines3>=2.0.0a4\n",
            "  Downloading stable_baselines3-2.4.0a11-py3-none-any.whl.metadata (4.5 kB)\n",
            "Collecting gymnasium<1.1.0,>=0.29.1 (from stable-baselines3>=2.0.0a4)\n",
            "  Downloading gymnasium-1.0.0-py3-none-any.whl.metadata (9.5 kB)\n",
            "Requirement already satisfied: numpy<2.0,>=1.20 in /usr/local/lib/python3.10/dist-packages (from stable-baselines3>=2.0.0a4) (1.26.4)\n",
            "Requirement already satisfied: torch>=1.13 in /usr/local/lib/python3.10/dist-packages (from stable-baselines3>=2.0.0a4) (2.5.0+cu121)\n",
            "Requirement already satisfied: cloudpickle in /usr/local/lib/python3.10/dist-packages (from stable-baselines3>=2.0.0a4) (3.1.0)\n",
            "Requirement already satisfied: pandas in /usr/local/lib/python3.10/dist-packages (from stable-baselines3>=2.0.0a4) (2.2.2)\n",
            "Requirement already satisfied: matplotlib in /usr/local/lib/python3.10/dist-packages (from stable-baselines3>=2.0.0a4) (3.8.0)\n",
            "Requirement already satisfied: typing-extensions>=4.3.0 in /usr/local/lib/python3.10/dist-packages (from gymnasium<1.1.0,>=0.29.1->stable-baselines3>=2.0.0a4) (4.12.2)\n",
            "Collecting farama-notifications>=0.0.1 (from gymnasium<1.1.0,>=0.29.1->stable-baselines3>=2.0.0a4)\n",
            "  Downloading Farama_Notifications-0.0.4-py3-none-any.whl.metadata (558 bytes)\n",
            "Requirement already satisfied: filelock in /usr/local/lib/python3.10/dist-packages (from torch>=1.13->stable-baselines3>=2.0.0a4) (3.16.1)\n",
            "Requirement already satisfied: networkx in /usr/local/lib/python3.10/dist-packages (from torch>=1.13->stable-baselines3>=2.0.0a4) (3.4.2)\n",
            "Requirement already satisfied: jinja2 in /usr/local/lib/python3.10/dist-packages (from torch>=1.13->stable-baselines3>=2.0.0a4) (3.1.4)\n",
            "Requirement already satisfied: fsspec in /usr/local/lib/python3.10/dist-packages (from torch>=1.13->stable-baselines3>=2.0.0a4) (2024.10.0)\n",
            "Requirement already satisfied: sympy==1.13.1 in /usr/local/lib/python3.10/dist-packages (from torch>=1.13->stable-baselines3>=2.0.0a4) (1.13.1)\n",
            "Requirement already satisfied: mpmath<1.4,>=1.1.0 in /usr/local/lib/python3.10/dist-packages (from sympy==1.13.1->torch>=1.13->stable-baselines3>=2.0.0a4) (1.3.0)\n",
            "Requirement already satisfied: contourpy>=1.0.1 in /usr/local/lib/python3.10/dist-packages (from matplotlib->stable-baselines3>=2.0.0a4) (1.3.0)\n",
            "Requirement already satisfied: cycler>=0.10 in /usr/local/lib/python3.10/dist-packages (from matplotlib->stable-baselines3>=2.0.0a4) (0.12.1)\n",
            "Requirement already satisfied: fonttools>=4.22.0 in /usr/local/lib/python3.10/dist-packages (from matplotlib->stable-baselines3>=2.0.0a4) (4.54.1)\n",
            "Requirement already satisfied: kiwisolver>=1.0.1 in /usr/local/lib/python3.10/dist-packages (from matplotlib->stable-baselines3>=2.0.0a4) (1.4.7)\n",
            "Requirement already satisfied: packaging>=20.0 in /usr/local/lib/python3.10/dist-packages (from matplotlib->stable-baselines3>=2.0.0a4) (24.1)\n",
            "Requirement already satisfied: pillow>=6.2.0 in /usr/local/lib/python3.10/dist-packages (from matplotlib->stable-baselines3>=2.0.0a4) (10.4.0)\n",
            "Requirement already satisfied: pyparsing>=2.3.1 in /usr/local/lib/python3.10/dist-packages (from matplotlib->stable-baselines3>=2.0.0a4) (3.2.0)\n",
            "Requirement already satisfied: python-dateutil>=2.7 in /usr/local/lib/python3.10/dist-packages (from matplotlib->stable-baselines3>=2.0.0a4) (2.8.2)\n",
            "Requirement already satisfied: pytz>=2020.1 in /usr/local/lib/python3.10/dist-packages (from pandas->stable-baselines3>=2.0.0a4) (2024.2)\n",
            "Requirement already satisfied: tzdata>=2022.7 in /usr/local/lib/python3.10/dist-packages (from pandas->stable-baselines3>=2.0.0a4) (2024.2)\n",
            "Requirement already satisfied: six>=1.5 in /usr/local/lib/python3.10/dist-packages (from python-dateutil>=2.7->matplotlib->stable-baselines3>=2.0.0a4) (1.16.0)\n",
            "Requirement already satisfied: MarkupSafe>=2.0 in /usr/local/lib/python3.10/dist-packages (from jinja2->torch>=1.13->stable-baselines3>=2.0.0a4) (3.0.2)\n",
            "Downloading stable_baselines3-2.4.0a11-py3-none-any.whl (183 kB)\n",
            "\u001b[2K   \u001b[90m━━━━━━━━━━━━━━━━━━━━━━━━━━━━━━━━━━━━━━━━\u001b[0m \u001b[32m183.9/183.9 kB\u001b[0m \u001b[31m4.6 MB/s\u001b[0m eta \u001b[36m0:00:00\u001b[0m\n",
            "\u001b[?25hDownloading gymnasium-1.0.0-py3-none-any.whl (958 kB)\n",
            "\u001b[2K   \u001b[90m━━━━━━━━━━━━━━━━━━━━━━━━━━━━━━━━━━━━━━━━\u001b[0m \u001b[32m958.1/958.1 kB\u001b[0m \u001b[31m21.8 MB/s\u001b[0m eta \u001b[36m0:00:00\u001b[0m\n",
            "\u001b[?25hDownloading Farama_Notifications-0.0.4-py3-none-any.whl (2.5 kB)\n",
            "Installing collected packages: farama-notifications, gymnasium, stable-baselines3\n",
            "Successfully installed farama-notifications-0.0.4 gymnasium-1.0.0 stable-baselines3-2.4.0a11\n"
          ]
        }
      ]
    },
    {
      "cell_type": "markdown",
      "metadata": {
        "id": "RqxatIwPOXe_"
      },
      "source": [
        "##  Formato do ambiente\n",
        "\n",
        "Um MDP é composto por estados, ações, transição e recompensa. Para modelar um MDP no gymnasium, voce deve definir duas propriedades e os métodos da interface.\n",
        "\n",
        "### Propriedades\n",
        "\n",
        "As propriedades são:\n",
        "- `observation_space` contém que tipo de espaço gym (gym space: `Discrete`, `Box`, ...) e a forma da observação (e.g. matriz 4x3).\n",
        "- `action_space` também é um objeto tipo gym space, definindo o tipo de ação que pode ser feita.\n",
        "\n",
        "O melhor jeito de aprender sobre gym spaces é olhando o [código](https://github.com/Farama-Foundation/Gymnasium/tree/main/gymnasium/spaces). De qualquer forma, os principais tipos são::\n",
        "- `gym.spaces.Box`: Um espaço (possivelmente sem limites) em $R^n$. Especificamente, Box representa o produto cartesiano de n intervalos fechados. Cada intervalo pode ser do tipo [a, b], (-oo, b], [a, oo), or (-oo, oo). Por exemplo, um vetor 1D ou uma imagem podem ser descritas como Box.\n",
        "\n",
        "- `gym.spaces.Discrete`: um conjunto discreto $\\{ 0, 1, \\dots, n-1 \\}$, geralmente útil para definir ações.\n",
        "  Exemplo: se você tem duas ações (esquerda e direita), você pode representar seu espaço de ações com `Discrete(2)`, e ao implementar os métodos do ambiente você faz a ação 0 representar \"esquerda\" e a 1 representar \"direita\".\n",
        "\n",
        "\n",
        "### Métodos\n",
        "\n",
        "Devem ser implementados 3 métodos obrigatórios e um opcional:\n",
        "\n",
        "* `reset(seed)` para (re)iniciar o ambiente. Deve retornar a observação/estado inicial para o agente e um dict com informação adicional (pode ser vazio). Recebe uma semente aleatória para usar caso haja aleatoriedade. É chamado sempre que um novo episódio for começar.\n",
        "* `step(action)` recebe a ação a ser realizada no ambiente. O método deve realizar a ação e retornar uma tupla: `observation, reward, terminated, truncated, info` contendo, respectivamente, a observação (estado atingido), a recompensa recebida, se o episodio terminou por atingir um estado terminal (terminated) ou se foi interrompido (truncado, e.g. limite de tentativas atingido) e um dict com informações adicionais (pode ser vazio).\n",
        "* `close()`: se precisar \"limpar\" alguma coisa ao fechar o ambiente\n",
        "* (opcional) `render(method)`: gera uma visualização do ambiente. A função recebe o método de renderização (string) e deve gerar a visualização apropriada.\n",
        "\n"
      ]
    },
    {
      "cell_type": "markdown",
      "source": [
        "## Ambiente já existente\n",
        "\n",
        "Vamos usar um ambiente dentre os vários que implementam a interface gym. No caso, vamos usar o CartPole. Documentação [aqui](https://gymnasium.farama.org/environments/classic_control/cart_pole/)."
      ],
      "metadata": {
        "id": "EIxbc7IIXL_Q"
      }
    },
    {
      "cell_type": "code",
      "source": [
        "from sklearn.preprocessing import KBinsDiscretizer\n",
        "import numpy as np\n",
        "import time, math, random\n",
        "from typing import Tuple\n",
        "import matplotlib.pyplot as plt\n",
        "from matplotlib import animation\n",
        "from matplotlib.animation import FuncAnimation\n",
        "from IPython.display import HTML\n",
        "%matplotlib inline\n",
        "\n",
        "import gymnasium as gym"
      ],
      "metadata": {
        "id": "mkApBFg-lFtI"
      },
      "execution_count": null,
      "outputs": []
    },
    {
      "cell_type": "code",
      "source": [
        "env = gym.make(\"CartPole-v1\")\n",
        "\n",
        "# Box(4,) means that it is a Vector with 4 components\n",
        "print(\"Observation space:\", env.observation_space)\n",
        "# Discrete(2) means that there is two discrete actions\n",
        "print(\"Action space:\", env.action_space)\n",
        "\n",
        "# The reset method is called at the beginning of an episode\n",
        "obs = env.reset()\n",
        "# Sample a random action\n",
        "action = env.action_space.sample()\n",
        "print(\"Sampled action:\", action)\n",
        "obs, reward, truncated, terminated, info = env.step(action)\n",
        "# Note the obs is a numpy array\n",
        "# info is an empty dict for now but can contain any debugging info\n",
        "# reward is a scalar\n",
        "print(obs, reward, truncated, terminated, info)"
      ],
      "metadata": {
        "id": "sAJNhvGKXXOb",
        "colab": {
          "base_uri": "https://localhost:8080/"
        },
        "outputId": "3859b97f-61f6-4b0c-ce0f-72e090bfcb30"
      },
      "execution_count": null,
      "outputs": [
        {
          "output_type": "stream",
          "name": "stdout",
          "text": [
            "Observation space: Box([-4.8               -inf -0.41887903        -inf], [4.8               inf 0.41887903        inf], (4,), float32)\n",
            "Action space: Discrete(2)\n",
            "Sampled action: 0\n",
            "[-0.03704422 -0.1750163   0.00064026  0.2645507 ] 1.0 False False {}\n"
          ]
        }
      ]
    },
    {
      "cell_type": "markdown",
      "source": [
        "### Executando um agente no ambiente\n",
        "\n",
        "Uma vez que o ambiente segue a interface gym, é bem facil plugar qualquer algoritmo do stable-baselines.\n",
        "\n",
        "Utilizaremos aqui o **Deep Q-learning**, utilizando uma rede **neural multilayer perceptron** para aproximar funções."
      ],
      "metadata": {
        "id": "qYNwBsrsXToU"
      }
    },
    {
      "cell_type": "code",
      "metadata": {
        "id": "U9hkMCMwXp5t",
        "colab": {
          "base_uri": "https://localhost:8080/"
        },
        "outputId": "82ff348f-447f-427f-f390-0c665672164c"
      },
      "source": [
        "from stable_baselines3 import PPO, A2C, DQN\n",
        "from stable_baselines3.common.env_util import make_vec_env\n",
        "\n",
        "# Train the agent\n",
        "#model = PPO('MlpPolicy', env, verbose=1).learn(5000)\n",
        "# Crie e treine o agente PPO\n",
        "model = DQN(\"MlpPolicy\", env, verbose=0)\n",
        "model.learn(total_timesteps=5000)"
      ],
      "execution_count": null,
      "outputs": [
        {
          "output_type": "execute_result",
          "data": {
            "text/plain": [
              "<stable_baselines3.dqn.dqn.DQN at 0x7a33a05f8be0>"
            ]
          },
          "metadata": {},
          "execution_count": 4
        }
      ]
    },
    {
      "cell_type": "markdown",
      "source": [
        "### Avaliação do agente treinado\n",
        "A celula abaixo verifica a execução do agente"
      ],
      "metadata": {
        "id": "s94ytvhmX452"
      }
    },
    {
      "cell_type": "code",
      "source": [
        "from stable_baselines3.common.evaluation import evaluate_policy\n",
        "import numpy as np\n",
        "# Avalie o agente treinado\n",
        "mean_reward, std_reward = evaluate_policy(model, env, n_eval_episodes=100)\n",
        "\n",
        "print(f\"mean_reward:{mean_reward:.2f} +/- {std_reward:.2f}\")\n",
        "\n",
        "# Feche o ambiente após a renderização\n",
        "env.close()"
      ],
      "metadata": {
        "id": "u5HJz6_bX9cb",
        "colab": {
          "base_uri": "https://localhost:8080/"
        },
        "outputId": "ab625996-9bda-4a44-d661-e4fb949aee11"
      },
      "execution_count": null,
      "outputs": [
        {
          "output_type": "stream",
          "name": "stderr",
          "text": [
            "/usr/local/lib/python3.10/dist-packages/stable_baselines3/common/evaluation.py:67: UserWarning: Evaluation environment is not wrapped with a ``Monitor`` wrapper. This may result in reporting modified episode lengths and rewards, if other wrappers happen to modify these. Consider wrapping environment first with ``Monitor`` wrapper.\n",
            "  warnings.warn(\n"
          ]
        },
        {
          "output_type": "stream",
          "name": "stdout",
          "text": [
            "mean_reward:9.48 +/- 0.93\n"
          ]
        }
      ]
    },
    {
      "cell_type": "markdown",
      "source": [
        "## Criando um novo ambiente\n",
        "\n",
        "Abaixo há uma implementação de um ambiente extremamente simples. É um grid unidimensional onde o agente começa na posição mais à direita e \"vence\" se chegar na posição mais à esquerda."
      ],
      "metadata": {
        "id": "8s2PfonKcSol"
      }
    },
    {
      "cell_type": "code",
      "metadata": {
        "id": "rYzDXA9vJfz1"
      },
      "source": [
        "import numpy as np\n",
        "import gymnasium as gym\n",
        "import gymnasium.spaces as spaces\n",
        "\n",
        "\n",
        "class GoLeftEnv(gym.Env):\n",
        "  \"\"\"\n",
        "  Custom Environment that follows gym interface.\n",
        "  This is a simple env where the agent must learn to go always left.\n",
        "  \"\"\"\n",
        "  # Usando renderização console, em vez de GUI ('human' render mode)\n",
        "  metadata = {'render.modes': ['console']}\n",
        "  # Define constants for clearer code\n",
        "  LEFT = 0\n",
        "  RIGHT = 1\n",
        "\n",
        "  def __init__(self, grid_size=10):\n",
        "    super(GoLeftEnv, self).__init__()\n",
        "\n",
        "    # Size of the 1D-grid\n",
        "    self.grid_size = grid_size\n",
        "\n",
        "    # Initialize the agent at the right of the grid\n",
        "    self.agent_pos = grid_size - 1\n",
        "\n",
        "    # Define action and observation space\n",
        "    # They must be gym.spaces objects\n",
        "    # Example when using discrete actions, we have two: left and right\n",
        "    n_actions = 2\n",
        "    self.action_space = spaces.Discrete(n_actions)\n",
        "\n",
        "    # The observation will be the coordinate of the agent\n",
        "    # this can be described both by Discrete and Box space, here we use Discrete\n",
        "    # the agent can be in any position from 0 to grid_size-1\n",
        "    self.observation_space = spaces.Discrete(self.grid_size)\n",
        "\n",
        "  def reset(self, seed=None):\n",
        "    \"\"\"\n",
        "    Important: se observation_space é Box, a observação deve ser um array numpy\n",
        "    :return: Tuple[np.array, dict] (obs e info; info é sempre vazio)\n",
        "    \"\"\"\n",
        "    # Initialize the agent at the right of the grid\n",
        "    self.agent_pos = self.grid_size - 1\n",
        "    obs = self.agent_pos #np.array([self.agent_pos]) #.astype(np.uint8)\n",
        "    info = {}\n",
        "    return obs, info\n",
        "\n",
        "\n",
        "  def step(self, action):\n",
        "    \"\"\"\n",
        "    Implementa a dinâmica do MDP. No nosso caso, basta ajustar a posição do agente\n",
        "    \"\"\"\n",
        "    if action != self.LEFT and action != self.RIGHT:    #checks for validity\n",
        "      raise ValueError(f\"Invalid action={action}\")\n",
        "\n",
        "    # position decreases if we move left, and increases if we move right\n",
        "    increment = -1 if action == self.LEFT else 1\n",
        "    self.agent_pos += increment\n",
        "\n",
        "    # Account for the boundaries of the world (keeps the agent between 0 and grid_size-1)\n",
        "    self.agent_pos = np.clip(self.agent_pos, 0, self.grid_size-1)\n",
        "\n",
        "    # The game \"finishes\" when the agent gets to the leftmost position\n",
        "    terminated = bool(self.agent_pos == 0)\n",
        "\n",
        "    # zero reward everywhere except when reaching the goal (left of the grid)\n",
        "    reward = 1 if self.agent_pos == 0 else 0\n",
        "\n",
        "    # Optionally we can pass additional info, we are not using that for now\n",
        "    info = {}\n",
        "\n",
        "    # converts the state to a numpy array and returns the experience tuple\n",
        "    obs = self.agent_pos\n",
        "\n",
        "    # for now, the episode has no timestep limit, so, it's never truncated\n",
        "    truncated = False\n",
        "    return obs, reward, terminated, truncated, info\n",
        "\n",
        "  def render(self, mode='console'):\n",
        "    \"\"\"\n",
        "    'Desenha' o ambiente para visualização\n",
        "    \"\"\"\n",
        "    if mode != 'console':\n",
        "      raise NotImplementedError()\n",
        "    # agent is represented as a cross, rest as a dot\n",
        "    print(\".\" * self.agent_pos, end=\"\")\n",
        "    print(\"x\", end=\"\")\n",
        "    print(\".\" * (self.grid_size-1 - self.agent_pos))\n",
        "\n",
        "\n",
        "  def close(self):\n",
        "    pass\n"
      ],
      "execution_count": null,
      "outputs": []
    },
    {
      "cell_type": "markdown",
      "metadata": {
        "id": "Zy5mlho1-Ine"
      },
      "source": [
        "### Validar o ambiente\n",
        "\n",
        "Stable Baselines3 fornece um [helper](https://stable-baselines3.readthedocs.io/en/master/common/env_checker.html) pra verificar se o ambiente segue a interface Gym. Também checa se o ambiente é compativel com os ambientes do Stable-Baselines (e dá warning se precisar)."
      ]
    },
    {
      "cell_type": "code",
      "metadata": {
        "id": "9DOpP_B0-LXm"
      },
      "source": [
        "from stable_baselines3.common.env_checker import check_env\n",
        "env = GoLeftEnv()\n",
        "\n",
        "# If the environment don't follow the interface, an error will be thrown\n",
        "check_env(env, warn=True)"
      ],
      "execution_count": null,
      "outputs": []
    },
    {
      "cell_type": "markdown",
      "metadata": {
        "id": "eJ3khFtkSE0g"
      },
      "source": [
        "### Testando o ambiente com um **agente aleatorio**"
      ]
    },
    {
      "cell_type": "code",
      "metadata": {
        "id": "i62yf2LvSAYY",
        "colab": {
          "base_uri": "https://localhost:8080/"
        },
        "outputId": "d733133c-8f3b-4b18-d21a-953d1f7d135b"
      },
      "source": [
        "env = GoLeftEnv(grid_size=10)\n",
        "\n",
        "obs, _ = env.reset(seed=None)\n",
        "print('Obs space: ', env.observation_space)\n",
        "print('Action space:', env.action_space)\n",
        "print(f\"Initial state: obs={obs}. Render:\".ljust(58), end=' ')\n",
        "env.render()\n",
        "\n",
        "for step in range(50):\n",
        "  print(f\"Step {step + 1}:\", end=' ')\n",
        "  action = env.action_space.sample()#seleciona uma ação aleatória\n",
        "  obs, reward, term, trunc, info = env.step(action)\n",
        "  print(f'obs={obs}, rwd={reward}, trunc={trunc}, term={term}. Render:'.ljust(50), end=' ')\n",
        "  env.render()\n",
        "  if term:\n",
        "    print(\"Goal reached!\", \"reward=\", reward)\n",
        "    break"
      ],
      "execution_count": null,
      "outputs": [
        {
          "output_type": "stream",
          "name": "stdout",
          "text": [
            "Obs space:  Discrete(10)\n",
            "Action space: Discrete(2)\n",
            "Initial state: obs=9. Render:                              .........x\n",
            "Step 1: obs=9, rwd=0, trunc=False, term=False. Render:     .........x\n",
            "Step 2: obs=8, rwd=0, trunc=False, term=False. Render:     ........x.\n",
            "Step 3: obs=9, rwd=0, trunc=False, term=False. Render:     .........x\n",
            "Step 4: obs=8, rwd=0, trunc=False, term=False. Render:     ........x.\n",
            "Step 5: obs=7, rwd=0, trunc=False, term=False. Render:     .......x..\n",
            "Step 6: obs=8, rwd=0, trunc=False, term=False. Render:     ........x.\n",
            "Step 7: obs=9, rwd=0, trunc=False, term=False. Render:     .........x\n",
            "Step 8: obs=8, rwd=0, trunc=False, term=False. Render:     ........x.\n",
            "Step 9: obs=9, rwd=0, trunc=False, term=False. Render:     .........x\n",
            "Step 10: obs=8, rwd=0, trunc=False, term=False. Render:     ........x.\n",
            "Step 11: obs=7, rwd=0, trunc=False, term=False. Render:     .......x..\n",
            "Step 12: obs=8, rwd=0, trunc=False, term=False. Render:     ........x.\n",
            "Step 13: obs=9, rwd=0, trunc=False, term=False. Render:     .........x\n",
            "Step 14: obs=9, rwd=0, trunc=False, term=False. Render:     .........x\n",
            "Step 15: obs=9, rwd=0, trunc=False, term=False. Render:     .........x\n",
            "Step 16: obs=8, rwd=0, trunc=False, term=False. Render:     ........x.\n",
            "Step 17: obs=9, rwd=0, trunc=False, term=False. Render:     .........x\n",
            "Step 18: obs=8, rwd=0, trunc=False, term=False. Render:     ........x.\n",
            "Step 19: obs=9, rwd=0, trunc=False, term=False. Render:     .........x\n",
            "Step 20: obs=8, rwd=0, trunc=False, term=False. Render:     ........x.\n",
            "Step 21: obs=7, rwd=0, trunc=False, term=False. Render:     .......x..\n",
            "Step 22: obs=6, rwd=0, trunc=False, term=False. Render:     ......x...\n",
            "Step 23: obs=5, rwd=0, trunc=False, term=False. Render:     .....x....\n",
            "Step 24: obs=6, rwd=0, trunc=False, term=False. Render:     ......x...\n",
            "Step 25: obs=5, rwd=0, trunc=False, term=False. Render:     .....x....\n",
            "Step 26: obs=6, rwd=0, trunc=False, term=False. Render:     ......x...\n",
            "Step 27: obs=7, rwd=0, trunc=False, term=False. Render:     .......x..\n",
            "Step 28: obs=6, rwd=0, trunc=False, term=False. Render:     ......x...\n",
            "Step 29: obs=7, rwd=0, trunc=False, term=False. Render:     .......x..\n",
            "Step 30: obs=8, rwd=0, trunc=False, term=False. Render:     ........x.\n",
            "Step 31: obs=7, rwd=0, trunc=False, term=False. Render:     .......x..\n",
            "Step 32: obs=8, rwd=0, trunc=False, term=False. Render:     ........x.\n",
            "Step 33: obs=7, rwd=0, trunc=False, term=False. Render:     .......x..\n",
            "Step 34: obs=8, rwd=0, trunc=False, term=False. Render:     ........x.\n",
            "Step 35: obs=9, rwd=0, trunc=False, term=False. Render:     .........x\n",
            "Step 36: obs=9, rwd=0, trunc=False, term=False. Render:     .........x\n",
            "Step 37: obs=9, rwd=0, trunc=False, term=False. Render:     .........x\n",
            "Step 38: obs=8, rwd=0, trunc=False, term=False. Render:     ........x.\n",
            "Step 39: obs=7, rwd=0, trunc=False, term=False. Render:     .......x..\n",
            "Step 40: obs=8, rwd=0, trunc=False, term=False. Render:     ........x.\n",
            "Step 41: obs=7, rwd=0, trunc=False, term=False. Render:     .......x..\n",
            "Step 42: obs=6, rwd=0, trunc=False, term=False. Render:     ......x...\n",
            "Step 43: obs=7, rwd=0, trunc=False, term=False. Render:     .......x..\n",
            "Step 44: obs=6, rwd=0, trunc=False, term=False. Render:     ......x...\n",
            "Step 45: obs=7, rwd=0, trunc=False, term=False. Render:     .......x..\n",
            "Step 46: obs=8, rwd=0, trunc=False, term=False. Render:     ........x.\n",
            "Step 47: obs=7, rwd=0, trunc=False, term=False. Render:     .......x..\n",
            "Step 48: obs=6, rwd=0, trunc=False, term=False. Render:     ......x...\n",
            "Step 49: obs=7, rwd=0, trunc=False, term=False. Render:     .......x..\n",
            "Step 50: obs=8, rwd=0, trunc=False, term=False. Render:     ........x.\n"
          ]
        }
      ]
    },
    {
      "cell_type": "markdown",
      "metadata": {
        "id": "Pv1e1qJETfHU"
      },
      "source": [
        "### Tente com algum algoritmo do Stable-Baselines\n",
        "\n",
        "Uma vez que o ambiente segue a interface gym, é bem facil plugar qualquer algoritmo do stable-baselines"
      ]
    },
    {
      "cell_type": "code",
      "metadata": {
        "id": "PQfLBE28SNDr"
      },
      "source": [
        "from stable_baselines3 import PPO, A2C, DQN\n",
        "from stable_baselines3.common.env_util import make_vec_env\n",
        "\n",
        "# Instantiate the env\n",
        "env = GoLeftEnv(grid_size=10)"
      ],
      "execution_count": null,
      "outputs": []
    },
    {
      "cell_type": "code",
      "metadata": {
        "id": "zRV4Q7FVUKB6"
      },
      "source": [
        "# Train the agent\n",
        "obs, _ = env.reset()\n",
        "model = DQN('MlpPolicy', env, verbose=0).learn(300)"
      ],
      "execution_count": null,
      "outputs": []
    },
    {
      "cell_type": "markdown",
      "source": [
        "## Teste o agente treinado"
      ],
      "metadata": {
        "id": "ia_AIBsEiMdb"
      }
    },
    {
      "cell_type": "code",
      "metadata": {
        "id": "BJbeiF0RUN-p",
        "colab": {
          "base_uri": "https://localhost:8080/"
        },
        "outputId": "77e21340-c7ba-48ff-dd66-b6fa2a3eede9"
      },
      "source": [
        "# Test the trained agent\n",
        "obs, _ = env.reset()\n",
        "n_steps = 20\n",
        "for step in range(n_steps):\n",
        "  action, _ = model.predict(obs, deterministic=True)\n",
        "  obs, reward, term, trunc, info = env.step(action)\n",
        "  print(f\"Step {step + 1}:\", end=' ')\n",
        "  env.render(mode='console')\n",
        "  if term:\n",
        "    print(\"Goal reached!\", \"reward=\", reward)\n",
        "    break"
      ],
      "execution_count": null,
      "outputs": [
        {
          "output_type": "stream",
          "name": "stdout",
          "text": [
            "Step 1: ........x.\n",
            "Step 2: .......x..\n",
            "Step 3: ......x...\n",
            "Step 4: .....x....\n",
            "Step 5: ....x.....\n",
            "Step 6: ...x......\n",
            "Step 7: ..x.......\n",
            "Step 8: .x........\n",
            "Step 9: x.........\n",
            "Goal reached! reward= 1\n"
          ]
        }
      ]
    }
  ]
}